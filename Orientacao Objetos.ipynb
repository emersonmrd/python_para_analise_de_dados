{
 "cells": [
  {
   "cell_type": "code",
   "execution_count": 1,
   "metadata": {},
   "outputs": [],
   "source": [
    "class Emerson:\n",
    "    pass"
   ]
  },
  {
   "cell_type": "code",
   "execution_count": 2,
   "metadata": {},
   "outputs": [
    {
     "data": {
      "text/plain": [
       "type"
      ]
     },
     "execution_count": 2,
     "metadata": {},
     "output_type": "execute_result"
    }
   ],
   "source": [
    "type( Emerson )"
   ]
  },
  {
   "cell_type": "code",
   "execution_count": 3,
   "metadata": {},
   "outputs": [],
   "source": [
    "# Criar nossa classe\n",
    "class Alguem:\n",
    "\n",
    "    # METODO CONSTURTOR\n",
    "    def __init__(self,nome, idade):\n",
    "        self.nome = nome\n",
    "        self.idade = idade\n",
    "\n",
    "    def imprimir_informacoes(self):\n",
    "        '''Função para mostrar o nome e idade da pessoa'''\n",
    "        print(f\"Nome: {self.nome}, Idade:{self.idade}\")\n"
   ]
  },
  {
   "cell_type": "code",
   "execution_count": 4,
   "metadata": {},
   "outputs": [],
   "source": [
    "# Criar a instancia\n",
    "pessoa1 = Alguem('Emerson', 21)\n",
    "pessoa2 = Alguem('Odemir', 21)"
   ]
  },
  {
   "cell_type": "code",
   "execution_count": 5,
   "metadata": {},
   "outputs": [
    {
     "name": "stdout",
     "output_type": "stream",
     "text": [
      "Nome: Emerson, Idade:21\n"
     ]
    }
   ],
   "source": [
    "pessoa1.imprimir_informacoes()\n"
   ]
  },
  {
   "cell_type": "code",
   "execution_count": 6,
   "metadata": {},
   "outputs": [
    {
     "name": "stdout",
     "output_type": "stream",
     "text": [
      "Nome: Odemir, Idade:21\n"
     ]
    }
   ],
   "source": [
    "pessoa2.imprimir_informacoes()"
   ]
  },
  {
   "cell_type": "code",
   "execution_count": 7,
   "metadata": {},
   "outputs": [
    {
     "name": "stdout",
     "output_type": "stream",
     "text": [
      "1256.6370614359173\n"
     ]
    }
   ],
   "source": [
    "import math\n",
    "\n",
    "class Circulo:\n",
    "\n",
    "    def __init__(self, raio):\n",
    "        self.raio = raio\n",
    "\n",
    "    def calcular_area(self):\n",
    "        return print( math.pi * self.raio ** 2)\n",
    "    \n",
    "# Insatcio\n",
    "circulo1 = Circulo(20)\n",
    "\n",
    "# Chameio o método\n",
    "circulo1.calcular_area()"
   ]
  },
  {
   "cell_type": "code",
   "execution_count": 8,
   "metadata": {},
   "outputs": [],
   "source": [
    "class Livro:\n",
    "\n",
    "    def __init__(self, titulo, autor, ano):\n",
    "\n",
    "        # isinstance: verifica se o argumento ano é uma instância do tipo int\n",
    "        if not isinstance(ano, int) or ano <= 0:\n",
    "            raise ValueError('O ano deve ser um número inteiro positivo.')\n",
    "        \n",
    "        self.titulo = titulo\n",
    "        self.autor = autor\n",
    "        self.ano = ano\n",
    "\n",
    "    def detalhes(self):\n",
    "        return f'Título: {self.titulo} Autor: {self.autor} Ano: {self.ano}'\n",
    "    \n"
   ]
  },
  {
   "cell_type": "code",
   "execution_count": 9,
   "metadata": {},
   "outputs": [],
   "source": [
    "livro1 = Livro('Silo', 'Hugh Howey', 2014)"
   ]
  },
  {
   "cell_type": "code",
   "execution_count": 10,
   "metadata": {},
   "outputs": [
    {
     "data": {
      "text/plain": [
       "'Título: Silo Autor: Hugh Howey Ano: 2014'"
      ]
     },
     "execution_count": 10,
     "metadata": {},
     "output_type": "execute_result"
    }
   ],
   "source": [
    "livro1.detalhes()"
   ]
  },
  {
   "cell_type": "code",
   "execution_count": 11,
   "metadata": {},
   "outputs": [
    {
     "ename": "ValueError",
     "evalue": "O ano deve ser um número inteiro positivo.",
     "output_type": "error",
     "traceback": [
      "\u001b[1;31m---------------------------------------------------------------------------\u001b[0m",
      "\u001b[1;31mValueError\u001b[0m                                Traceback (most recent call last)",
      "Cell \u001b[1;32mIn[11], line 1\u001b[0m\n\u001b[1;32m----> 1\u001b[0m livro1 \u001b[38;5;241m=\u001b[39m Livro(\u001b[38;5;124m'\u001b[39m\u001b[38;5;124mSilo\u001b[39m\u001b[38;5;124m'\u001b[39m, \u001b[38;5;124m'\u001b[39m\u001b[38;5;124mHugh Howey\u001b[39m\u001b[38;5;124m'\u001b[39m, \u001b[38;5;124m'\u001b[39m\u001b[38;5;124m2014\u001b[39m\u001b[38;5;124m'\u001b[39m)\n",
      "Cell \u001b[1;32mIn[8], line 7\u001b[0m, in \u001b[0;36mLivro.__init__\u001b[1;34m(self, titulo, autor, ano)\u001b[0m\n\u001b[0;32m      3\u001b[0m \u001b[38;5;28;01mdef\u001b[39;00m \u001b[38;5;21m__init__\u001b[39m(\u001b[38;5;28mself\u001b[39m, titulo, autor, ano):\n\u001b[0;32m      4\u001b[0m \n\u001b[0;32m      5\u001b[0m     \u001b[38;5;66;03m# isinstance: verifica se o argumento ano é uma instância do tipo int\u001b[39;00m\n\u001b[0;32m      6\u001b[0m     \u001b[38;5;28;01mif\u001b[39;00m \u001b[38;5;129;01mnot\u001b[39;00m \u001b[38;5;28misinstance\u001b[39m(ano, \u001b[38;5;28mint\u001b[39m) \u001b[38;5;129;01mor\u001b[39;00m ano \u001b[38;5;241m<\u001b[39m\u001b[38;5;241m=\u001b[39m \u001b[38;5;241m0\u001b[39m:\n\u001b[1;32m----> 7\u001b[0m         \u001b[38;5;28;01mraise\u001b[39;00m \u001b[38;5;167;01mValueError\u001b[39;00m(\u001b[38;5;124m'\u001b[39m\u001b[38;5;124mO ano deve ser um número inteiro positivo.\u001b[39m\u001b[38;5;124m'\u001b[39m)\n\u001b[0;32m      9\u001b[0m     \u001b[38;5;28mself\u001b[39m\u001b[38;5;241m.\u001b[39mtitulo \u001b[38;5;241m=\u001b[39m titulo\n\u001b[0;32m     10\u001b[0m     \u001b[38;5;28mself\u001b[39m\u001b[38;5;241m.\u001b[39mautor \u001b[38;5;241m=\u001b[39m autor\n",
      "\u001b[1;31mValueError\u001b[0m: O ano deve ser um número inteiro positivo."
     ]
    }
   ],
   "source": [
    "livro1 = Livro('Silo', 'Hugh Howey', '2014')"
   ]
  },
  {
   "cell_type": "code",
   "execution_count": 13,
   "metadata": {},
   "outputs": [],
   "source": [
    "class Animal:\n",
    "\n",
    "    def __init__(self, especie, idade):\n",
    "        self.idade = idade\n",
    "\n",
    "        if especie.lower() == 'cachorro':\n",
    "            self.especie = especie\n",
    "        else:\n",
    "            raise ValueError(f'Espécie inválida! Apenas \"Cachorro\" é permitido.')\n"
   ]
  },
  {
   "cell_type": "code",
   "execution_count": 14,
   "metadata": {},
   "outputs": [
    {
     "name": "stdout",
     "output_type": "stream",
     "text": [
      "CACHORRO\n"
     ]
    }
   ],
   "source": [
    "animal1 = Animal('CACHORRO', 5)\n",
    "print(animal1.especie)"
   ]
  },
  {
   "cell_type": "code",
   "execution_count": 15,
   "metadata": {},
   "outputs": [
    {
     "ename": "ValueError",
     "evalue": "Espécie inválida! Apenas \"Cachorro\" é permitido.",
     "output_type": "error",
     "traceback": [
      "\u001b[1;31m---------------------------------------------------------------------------\u001b[0m",
      "\u001b[1;31mValueError\u001b[0m                                Traceback (most recent call last)",
      "Cell \u001b[1;32mIn[15], line 1\u001b[0m\n\u001b[1;32m----> 1\u001b[0m animal2 \u001b[38;5;241m=\u001b[39m Animal(\u001b[38;5;124m'\u001b[39m\u001b[38;5;124mGato\u001b[39m\u001b[38;5;124m'\u001b[39m, \u001b[38;5;241m3\u001b[39m)\n\u001b[0;32m      2\u001b[0m \u001b[38;5;28mprint\u001b[39m(animal1\u001b[38;5;241m.\u001b[39mespecie)\n",
      "Cell \u001b[1;32mIn[13], line 9\u001b[0m, in \u001b[0;36mAnimal.__init__\u001b[1;34m(self, especie, idade)\u001b[0m\n\u001b[0;32m      7\u001b[0m     \u001b[38;5;28mself\u001b[39m\u001b[38;5;241m.\u001b[39mespecie \u001b[38;5;241m=\u001b[39m especie\n\u001b[0;32m      8\u001b[0m \u001b[38;5;28;01melse\u001b[39;00m:\n\u001b[1;32m----> 9\u001b[0m     \u001b[38;5;28;01mraise\u001b[39;00m \u001b[38;5;167;01mValueError\u001b[39;00m(\u001b[38;5;124mf\u001b[39m\u001b[38;5;124m'\u001b[39m\u001b[38;5;124mEspécie inválida! Apenas \u001b[39m\u001b[38;5;124m\"\u001b[39m\u001b[38;5;124mCachorro\u001b[39m\u001b[38;5;124m\"\u001b[39m\u001b[38;5;124m é permitido.\u001b[39m\u001b[38;5;124m'\u001b[39m)\n",
      "\u001b[1;31mValueError\u001b[0m: Espécie inválida! Apenas \"Cachorro\" é permitido."
     ]
    }
   ],
   "source": [
    "animal2 = Animal('Gato', 3)\n",
    "print(animal1.especie)"
   ]
  },
  {
   "cell_type": "code",
   "execution_count": 16,
   "metadata": {},
   "outputs": [],
   "source": [
    "class ValidadorCPF:\n",
    "\n",
    "    def __init__(self):\n",
    "        self.lista_cpf_bloquear = ['123.456.789-10', '987.654.321-98', '111.222.333-44']\n",
    "\n",
    "    def validar_cpf(self, cpf):\n",
    "        \n",
    "        # Loop \n",
    "        for cpf_na_lista in self.lista_cpf_bloquear:\n",
    "            if cpf_na_lista == cpf:\n",
    "                return True\n",
    "        return False"
   ]
  },
  {
   "cell_type": "code",
   "execution_count": 17,
   "metadata": {},
   "outputs": [],
   "source": [
    "validador = ValidadorCPF()"
   ]
  },
  {
   "cell_type": "code",
   "execution_count": 18,
   "metadata": {},
   "outputs": [
    {
     "name": "stdout",
     "output_type": "stream",
     "text": [
      "O CPF 123.456.789-10 está na lista.\n"
     ]
    }
   ],
   "source": [
    "# verificar o cpf\n",
    "cpf_validar = '123.456.789-10'\n",
    "\n",
    "if validador.validar_cpf(cpf_validar):\n",
    "    print(f'O CPF {cpf_validar} está na lista.')\n",
    "\n",
    "else:\n",
    "    print(f'O CPF {cpf_validar} não está na lista.')"
   ]
  },
  {
   "cell_type": "code",
   "execution_count": 19,
   "metadata": {},
   "outputs": [
    {
     "name": "stdout",
     "output_type": "stream",
     "text": [
      "O CPF 123.456.789-99 não está na lista.\n"
     ]
    }
   ],
   "source": [
    "# verificar o cpf\n",
    "cpf_validar = '123.456.789-99'\n",
    "\n",
    "if validador.validar_cpf(cpf_validar):\n",
    "    print(f'O CPF {cpf_validar} está na lista.')\n",
    "\n",
    "else:\n",
    "    print(f'O CPF {cpf_validar} não está na lista.')"
   ]
  },
  {
   "cell_type": "markdown",
   "metadata": {},
   "source": [
    "# ETL + Data Visualization"
   ]
  },
  {
   "cell_type": "markdown",
   "metadata": {},
   "source": [
    "## Buscando dados de uma API"
   ]
  },
  {
   "cell_type": "code",
   "execution_count": 58,
   "metadata": {},
   "outputs": [],
   "source": [
    "import yfinance as yf\n",
    "import pandas as pd\n",
    "from datetime import datetime, timedelta\n",
    "import time"
   ]
  },
  {
   "cell_type": "code",
   "execution_count": 28,
   "metadata": {},
   "outputs": [],
   "source": [
    "class YahooFinanceAPI:\n",
    "\n",
    "  def __init__(self, simbolo):\n",
    "    self.simbolo = simbolo\n",
    "    self.dataframe = None\n",
    "\n",
    "  def obter_dados_acao(self, meses=1):\n",
    "    inicio = time.time()\n",
    "    data_fim = datetime.today()\n",
    "    data_inicio = data_fim - timedelta(days=meses*30)\n",
    "    dados_acao = yf.download(self.simbolo, start=data_inicio, end=data_fim)\n",
    "    fim = time.time()\n",
    "    tempo_decorrido = fim - inicio\n",
    "    print(f\"Tempo decorrido para obter dados da API: {tempo_decorrido:.2f} segundos\")\n",
    "    self.dataframe = dados_acao\n",
    "    return dados_acao\n",
    "\n",
    "  def mostrar_estatisticas_basicas(self, meses=1):\n",
    "    dados_acao = self.obter_dados_acao(meses)\n",
    "    if not dados_acao.empty:\n",
    "        print(f\"Símbolo: {self.simbolo}\")\n",
    "        print(f\"Número total de pontos de dados: {len(dados_acao)}\")\n",
    "        print(f\"Máxima preço de fechamento: {dados_acao['Close'].max()}\")\n",
    "        print(f\"Mínima preço de fechamento: {dados_acao['Close'].min()}\")\n",
    "        print(f\"Média preço de fechamento: {dados_acao['Close'].mean()}\")\n",
    "    else:\n",
    "        print(\"Não há dados disponíveis para o símbolo fornecido.\")\n",
    "\n",
    "  def mostrar_informacoes(self):\n",
    "    if self.dataframe is None:\n",
    "        print(\"DataFrame vazio. Leia um arquivo antes de usar esta função.\")\n",
    "    else:\n",
    "        print(f\"Número de linhas: {self.dataframe.shape[0]}\")\n",
    "        print(f\"Número de colunas: {self.dataframe.shape[1]}\")\n",
    "        print(f\"Colunas: {self.dataframe.columns}\")"
   ]
  },
  {
   "cell_type": "code",
   "execution_count": 42,
   "metadata": {},
   "outputs": [],
   "source": [
    "yahoo_finance = YahooFinanceAPI(\"MGLU3.SA\")"
   ]
  },
  {
   "cell_type": "code",
   "execution_count": 43,
   "metadata": {},
   "outputs": [
    {
     "name": "stderr",
     "output_type": "stream",
     "text": [
      "[*********************100%%**********************]  1 of 1 completed"
     ]
    },
    {
     "name": "stdout",
     "output_type": "stream",
     "text": [
      "Tempo decorrido para obter dados da API: 0.46 segundos\n",
      "Símbolo: MGLU3.SA\n",
      "Número total de pontos de dados: 63\n",
      "Máxima preço de fechamento: 16.700000762939453\n",
      "Mínima preço de fechamento: 10.670000076293945\n",
      "Média preço de fechamento: 13.559523794386122\n"
     ]
    },
    {
     "name": "stderr",
     "output_type": "stream",
     "text": [
      "\n"
     ]
    }
   ],
   "source": [
    "yahoo_finance.mostrar_estatisticas_basicas(meses=3)"
   ]
  },
  {
   "cell_type": "code",
   "execution_count": 44,
   "metadata": {},
   "outputs": [
    {
     "name": "stdout",
     "output_type": "stream",
     "text": [
      "Número de linhas: 63\n",
      "Número de colunas: 6\n",
      "Colunas: Index(['Open', 'High', 'Low', 'Close', 'Adj Close', 'Volume'], dtype='object')\n"
     ]
    }
   ],
   "source": [
    "yahoo_finance.mostrar_informacoes()"
   ]
  },
  {
   "cell_type": "code",
   "execution_count": 25,
   "metadata": {},
   "outputs": [
    {
     "name": "stderr",
     "output_type": "stream",
     "text": [
      "[*********************100%%**********************]  1 of 1 completed\n"
     ]
    },
    {
     "data": {
      "text/html": [
       "<div>\n",
       "<style scoped>\n",
       "    .dataframe tbody tr th:only-of-type {\n",
       "        vertical-align: middle;\n",
       "    }\n",
       "\n",
       "    .dataframe tbody tr th {\n",
       "        vertical-align: top;\n",
       "    }\n",
       "\n",
       "    .dataframe thead th {\n",
       "        text-align: right;\n",
       "    }\n",
       "</style>\n",
       "<table border=\"1\" class=\"dataframe\">\n",
       "  <thead>\n",
       "    <tr style=\"text-align: right;\">\n",
       "      <th></th>\n",
       "      <th>Open</th>\n",
       "      <th>High</th>\n",
       "      <th>Low</th>\n",
       "      <th>Close</th>\n",
       "      <th>Adj Close</th>\n",
       "      <th>Volume</th>\n",
       "    </tr>\n",
       "    <tr>\n",
       "      <th>Date</th>\n",
       "      <th></th>\n",
       "      <th></th>\n",
       "      <th></th>\n",
       "      <th></th>\n",
       "      <th></th>\n",
       "      <th></th>\n",
       "    </tr>\n",
       "  </thead>\n",
       "  <tbody>\n",
       "    <tr>\n",
       "      <th>2024-07-01</th>\n",
       "      <td>212.089996</td>\n",
       "      <td>217.509995</td>\n",
       "      <td>211.919998</td>\n",
       "      <td>216.750000</td>\n",
       "      <td>216.750000</td>\n",
       "      <td>60402900</td>\n",
       "    </tr>\n",
       "    <tr>\n",
       "      <th>2024-07-02</th>\n",
       "      <td>216.149994</td>\n",
       "      <td>220.380005</td>\n",
       "      <td>215.100006</td>\n",
       "      <td>220.270004</td>\n",
       "      <td>220.270004</td>\n",
       "      <td>58046200</td>\n",
       "    </tr>\n",
       "    <tr>\n",
       "      <th>2024-07-03</th>\n",
       "      <td>220.000000</td>\n",
       "      <td>221.550003</td>\n",
       "      <td>219.029999</td>\n",
       "      <td>221.550003</td>\n",
       "      <td>221.550003</td>\n",
       "      <td>37369800</td>\n",
       "    </tr>\n",
       "    <tr>\n",
       "      <th>2024-07-05</th>\n",
       "      <td>221.649994</td>\n",
       "      <td>226.449997</td>\n",
       "      <td>221.649994</td>\n",
       "      <td>226.339996</td>\n",
       "      <td>226.339996</td>\n",
       "      <td>60412400</td>\n",
       "    </tr>\n",
       "    <tr>\n",
       "      <th>2024-07-08</th>\n",
       "      <td>227.089996</td>\n",
       "      <td>227.850006</td>\n",
       "      <td>223.250000</td>\n",
       "      <td>227.820007</td>\n",
       "      <td>227.820007</td>\n",
       "      <td>59085900</td>\n",
       "    </tr>\n",
       "  </tbody>\n",
       "</table>\n",
       "</div>"
      ],
      "text/plain": [
       "                  Open        High         Low       Close   Adj Close  \\\n",
       "Date                                                                     \n",
       "2024-07-01  212.089996  217.509995  211.919998  216.750000  216.750000   \n",
       "2024-07-02  216.149994  220.380005  215.100006  220.270004  220.270004   \n",
       "2024-07-03  220.000000  221.550003  219.029999  221.550003  221.550003   \n",
       "2024-07-05  221.649994  226.449997  221.649994  226.339996  226.339996   \n",
       "2024-07-08  227.089996  227.850006  223.250000  227.820007  227.820007   \n",
       "\n",
       "              Volume  \n",
       "Date                  \n",
       "2024-07-01  60402900  \n",
       "2024-07-02  58046200  \n",
       "2024-07-03  37369800  \n",
       "2024-07-05  60412400  \n",
       "2024-07-08  59085900  "
      ]
     },
     "execution_count": 25,
     "metadata": {},
     "output_type": "execute_result"
    }
   ],
   "source": [
    "# Simbolo do ativo que você deseja obter os dados\n",
    "symbol = 'AAPL'\n",
    "\n",
    "# Obtendo dados historicos do yahoo finance \n",
    "data = yf.download(symbol, start=\"2024-07-01\", end=\"2024-07-10\")\n",
    "\n",
    "data.head()"
   ]
  },
  {
   "cell_type": "markdown",
   "metadata": {},
   "source": [
    "## Criando um CRUD\n"
   ]
  },
  {
   "cell_type": "markdown",
   "metadata": {},
   "source": [
    "### Famoso:\n",
    "\n",
    "#### Create\n",
    "#### Read\n",
    "#### Updade\n",
    "#### Delete"
   ]
  },
  {
   "cell_type": "code",
   "execution_count": 45,
   "metadata": {},
   "outputs": [],
   "source": [
    "import sqlite3"
   ]
  },
  {
   "cell_type": "code",
   "execution_count": 47,
   "metadata": {},
   "outputs": [],
   "source": [
    "class LivroDB:\n",
    "\n",
    "    def __init__(self, db_name):\n",
    "        self.conn = sqlite3.connect(db_name)\n",
    "        self.c = self.conn.cursor()\n",
    "        self.create_table()\n",
    "\n",
    "    def create_table(self):\n",
    "        Query = '''\n",
    "                    CREATE TABLE IF NOT EXISTS livros (\n",
    "                        id INTEGER PRIMARY KEY,\n",
    "                        titulo TEXT NOT NULL,\n",
    "                        autor TEXT NOT NULL,\n",
    "                        ano INTEGER NOT NULL\n",
    "                        )\n",
    "                '''\n",
    "        self.c.execute( Query )\n",
    "        self.conn.commit()\n",
    "    \n",
    "    def adicionar_livro(self, titulo, autor, ano):\n",
    "        self.c.execute(\"INSERT INTO livros (titulo, autor, ano) VALUES (?, ?, ?)\", (titulo, autor, ano))\n",
    "        self.conn.commit()\n",
    "    \n",
    "    def listar_livros(self):\n",
    "        self.c.execute(\"SELECT * FROM livros\")\n",
    "        return self.c.fetchall()\n",
    "    \n",
    "    def buscar_livro_por_titulo(self, titulo):\n",
    "        self.c.execute(\"SELECT * FROM livros WHERE titulo=?\", (titulo,))\n",
    "        return self.c.fetchall()\n",
    "    \n",
    "    def atualizar_livro(self, id, titulo, autor, ano):\n",
    "        self.c.execute(\"UPDATE livros SET titulo=?, autor=?, ano=? WHERE id=?\", (titulo, autor, ano, id))\n",
    "        self.conn.commit()\n",
    "    \n",
    "    def deletar_livro(self, id):\n",
    "        self.c.execute(\"DELETE FROM livros WHERE id=?\", (id,))\n",
    "        self.conn.commit()"
   ]
  },
  {
   "cell_type": "code",
   "execution_count": 48,
   "metadata": {},
   "outputs": [],
   "source": [
    "livro_db = LivroDB(\"livros.db\")"
   ]
  },
  {
   "cell_type": "code",
   "execution_count": 49,
   "metadata": {},
   "outputs": [],
   "source": [
    "livro_db.adicionar_livro(\"Dom Casmurro\", \"Machado de Assis\", 1899)"
   ]
  },
  {
   "cell_type": "code",
   "execution_count": 50,
   "metadata": {},
   "outputs": [],
   "source": [
    "livro_db.adicionar_livro(\"A Metamorfose\", \"Franz Kafka\", 1915)"
   ]
  },
  {
   "cell_type": "code",
   "execution_count": 51,
   "metadata": {},
   "outputs": [
    {
     "name": "stdout",
     "output_type": "stream",
     "text": [
      "Todos os livros:\n",
      "[(1, 'Dom Casmurro', 'Machado de Assis', 1899), (2, 'A Metamorfose', 'Franz Kafka', 1915)]\n"
     ]
    }
   ],
   "source": [
    "print(\"Todos os livros:\")\n",
    "print(livro_db.listar_livros())"
   ]
  },
  {
   "cell_type": "code",
   "execution_count": 52,
   "metadata": {},
   "outputs": [
    {
     "name": "stdout",
     "output_type": "stream",
     "text": [
      "[(1, 'Dom Casmurro', 'Machado de Assis', 1899)]\n"
     ]
    }
   ],
   "source": [
    "print(livro_db.buscar_livro_por_titulo(\"Dom Casmurro\"))"
   ]
  },
  {
   "cell_type": "code",
   "execution_count": 53,
   "metadata": {},
   "outputs": [],
   "source": [
    "livro_db.atualizar_livro(1, \"Dom Casmurro\", \"Machado de Assis\", 1900)"
   ]
  },
  {
   "cell_type": "code",
   "execution_count": 54,
   "metadata": {},
   "outputs": [
    {
     "name": "stdout",
     "output_type": "stream",
     "text": [
      "[(1, 'Dom Casmurro', 'Machado de Assis', 1900)]\n"
     ]
    }
   ],
   "source": [
    "print(livro_db.buscar_livro_por_titulo(\"Dom Casmurro\"))"
   ]
  },
  {
   "cell_type": "code",
   "execution_count": 55,
   "metadata": {},
   "outputs": [],
   "source": [
    "livro_db.deletar_livro(2)"
   ]
  },
  {
   "cell_type": "code",
   "execution_count": 56,
   "metadata": {},
   "outputs": [
    {
     "name": "stdout",
     "output_type": "stream",
     "text": [
      "Todos os livros:\n",
      "[(1, 'Dom Casmurro', 'Machado de Assis', 1900)]\n"
     ]
    }
   ],
   "source": [
    "print(\"Todos os livros:\")\n",
    "print(livro_db.listar_livros())"
   ]
  },
  {
   "cell_type": "code",
   "execution_count": 59,
   "metadata": {},
   "outputs": [
    {
     "data": {
      "text/html": [
       "<div>\n",
       "<style scoped>\n",
       "    .dataframe tbody tr th:only-of-type {\n",
       "        vertical-align: middle;\n",
       "    }\n",
       "\n",
       "    .dataframe tbody tr th {\n",
       "        vertical-align: top;\n",
       "    }\n",
       "\n",
       "    .dataframe thead th {\n",
       "        text-align: right;\n",
       "    }\n",
       "</style>\n",
       "<table border=\"1\" class=\"dataframe\">\n",
       "  <thead>\n",
       "    <tr style=\"text-align: right;\">\n",
       "      <th></th>\n",
       "      <th>0</th>\n",
       "      <th>1</th>\n",
       "      <th>2</th>\n",
       "      <th>3</th>\n",
       "    </tr>\n",
       "  </thead>\n",
       "  <tbody>\n",
       "    <tr>\n",
       "      <th>0</th>\n",
       "      <td>1</td>\n",
       "      <td>Dom Casmurro</td>\n",
       "      <td>Machado de Assis</td>\n",
       "      <td>1900</td>\n",
       "    </tr>\n",
       "  </tbody>\n",
       "</table>\n",
       "</div>"
      ],
      "text/plain": [
       "   0             1                 2     3\n",
       "0  1  Dom Casmurro  Machado de Assis  1900"
      ]
     },
     "execution_count": 59,
     "metadata": {},
     "output_type": "execute_result"
    }
   ],
   "source": [
    "pd.DataFrame( livro_db.listar_livros() )"
   ]
  },
  {
   "cell_type": "code",
   "execution_count": null,
   "metadata": {},
   "outputs": [],
   "source": []
  }
 ],
 "metadata": {
  "kernelspec": {
   "display_name": "base",
   "language": "python",
   "name": "python3"
  },
  "language_info": {
   "codemirror_mode": {
    "name": "ipython",
    "version": 3
   },
   "file_extension": ".py",
   "mimetype": "text/x-python",
   "name": "python",
   "nbconvert_exporter": "python",
   "pygments_lexer": "ipython3",
   "version": "3.12.3"
  }
 },
 "nbformat": 4,
 "nbformat_minor": 2
}
