{
  "cells": [
    {
      "cell_type": "code",
      "execution_count": 1,
      "metadata": {
        "id": "1bvROzzQ94kP"
      },
      "outputs": [],
      "source": [
        "# Libs\n",
        "import pandas as pd\n",
        "import numpy as np\n",
        "\n",
        "# Analise gráfica\n",
        "import plotly.graph_objects as go\n",
        "from plotly.subplots import make_subplots\n",
        "\n",
        "# scraping\n",
        "import requests\n",
        "from bs4 import BeautifulSoup\n",
        "\n",
        "# Avisos\n",
        "import warnings\n",
        "warnings.filterwarnings('ignore')\n",
        "\n"
      ]
    },
    {
      "cell_type": "code",
      "execution_count": 2,
      "metadata": {
        "colab": {
          "base_uri": "https://localhost:8080/"
        },
        "id": "Hf1eoqrxAT4O",
        "outputId": "61b1fc03-4d3a-4ab3-87ed-a0395fdb5696"
      },
      "outputs": [
        {
          "name": "stdout",
          "output_type": "stream",
          "text": [
            "https://pt.wikipedia.org/wiki/Lista_de_pa%C3%ADses_por_PIB_nominal\n"
          ]
        }
      ],
      "source": [
        "# Site dos dados\n",
        "Url = 'https://pt.wikipedia.org/wiki/Lista_de_pa%C3%ADses_por_PIB_nominal'\n",
        "\n",
        "print( Url )"
      ]
    },
    {
      "cell_type": "code",
      "execution_count": 3,
      "metadata": {
        "colab": {
          "base_uri": "https://localhost:8080/"
        },
        "id": "sf0HdVBwAswW",
        "outputId": "add6fa4a-50d4-43ca-af84-b39d93463049"
      },
      "outputs": [
        {
          "data": {
            "text/plain": [
              "9"
            ]
          },
          "execution_count": 3,
          "metadata": {},
          "output_type": "execute_result"
        }
      ],
      "source": [
        "# Scraoubg das tabekas\n",
        "\n",
        "Tabela_Webs = pd.read_html( Url )\n",
        "\n",
        "len( Tabela_Webs )"
      ]
    },
    {
      "cell_type": "code",
      "execution_count": 4,
      "metadata": {
        "colab": {
          "base_uri": "https://localhost:8080/",
          "height": 486
        },
        "id": "JGXBFcdcB3aM",
        "outputId": "58b99f09-8a14-45b4-a443-a3e6eb07b19b"
      },
      "outputs": [
        {
          "data": {
            "text/html": [
              "<div>\n",
              "<style scoped>\n",
              "    .dataframe tbody tr th:only-of-type {\n",
              "        vertical-align: middle;\n",
              "    }\n",
              "\n",
              "    .dataframe tbody tr th {\n",
              "        vertical-align: top;\n",
              "    }\n",
              "\n",
              "    .dataframe thead tr th {\n",
              "        text-align: left;\n",
              "    }\n",
              "</style>\n",
              "<table border=\"1\" class=\"dataframe\">\n",
              "  <thead>\n",
              "    <tr>\n",
              "      <th></th>\n",
              "      <th>País/Território</th>\n",
              "      <th>Região ONU</th>\n",
              "      <th colspan=\"2\" halign=\"left\">FMI[26][27]</th>\n",
              "      <th colspan=\"2\" halign=\"left\">Banco Mundial[28]</th>\n",
              "      <th colspan=\"2\" halign=\"left\">Nações Unidas[29]</th>\n",
              "    </tr>\n",
              "    <tr>\n",
              "      <th></th>\n",
              "      <th>País/Território</th>\n",
              "      <th>Região ONU</th>\n",
              "      <th>Estimativa</th>\n",
              "      <th>Ano</th>\n",
              "      <th>Estimativa</th>\n",
              "      <th>Ano</th>\n",
              "      <th>Estimativa</th>\n",
              "      <th>Ano</th>\n",
              "    </tr>\n",
              "    <tr>\n",
              "      <th></th>\n",
              "      <th>Mundo</th>\n",
              "      <th>—</th>\n",
              "      <th>101,560,901</th>\n",
              "      <th>2024</th>\n",
              "      <th>96,100,091</th>\n",
              "      <th>2021</th>\n",
              "      <th>85,328,323</th>\n",
              "      <th>2020</th>\n",
              "    </tr>\n",
              "  </thead>\n",
              "  <tbody>\n",
              "    <tr>\n",
              "      <th>0</th>\n",
              "      <td>Estados Unidos</td>\n",
              "      <td>América</td>\n",
              "      <td>28781083</td>\n",
              "      <td>2024</td>\n",
              "      <td>23320000</td>\n",
              "      <td>2021</td>\n",
              "      <td>21060000</td>\n",
              "      <td>2020</td>\n",
              "    </tr>\n",
              "    <tr>\n",
              "      <th>1</th>\n",
              "      <td>China</td>\n",
              "      <td>Ásia</td>\n",
              "      <td>18532633</td>\n",
              "      <td>[n 1]2024</td>\n",
              "      <td>17820000</td>\n",
              "      <td>[n 2]2021</td>\n",
              "      <td>14690000</td>\n",
              "      <td>[n 1]2020</td>\n",
              "    </tr>\n",
              "    <tr>\n",
              "      <th>2</th>\n",
              "      <td>Alemanha</td>\n",
              "      <td>Europa</td>\n",
              "      <td>4591100</td>\n",
              "      <td>2024</td>\n",
              "      <td>4280000</td>\n",
              "      <td>2021</td>\n",
              "      <td>3890000</td>\n",
              "      <td>2020</td>\n",
              "    </tr>\n",
              "    <tr>\n",
              "      <th>3</th>\n",
              "      <td>Japão</td>\n",
              "      <td>Ásia</td>\n",
              "      <td>4110452</td>\n",
              "      <td>2024</td>\n",
              "      <td>5030000</td>\n",
              "      <td>2021</td>\n",
              "      <td>5060000</td>\n",
              "      <td>2020</td>\n",
              "    </tr>\n",
              "    <tr>\n",
              "      <th>4</th>\n",
              "      <td>Índia</td>\n",
              "      <td>Ásia</td>\n",
              "      <td>3937011</td>\n",
              "      <td>2024</td>\n",
              "      <td>3150000</td>\n",
              "      <td>2021</td>\n",
              "      <td>2670000</td>\n",
              "      <td>2020</td>\n",
              "    </tr>\n",
              "    <tr>\n",
              "      <th>...</th>\n",
              "      <td>...</td>\n",
              "      <td>...</td>\n",
              "      <td>...</td>\n",
              "      <td>...</td>\n",
              "      <td>...</td>\n",
              "      <td>...</td>\n",
              "      <td>...</td>\n",
              "      <td>...</td>\n",
              "    </tr>\n",
              "    <tr>\n",
              "      <th>211</th>\n",
              "      <td>Palau</td>\n",
              "      <td>Oceania</td>\n",
              "      <td>0000226</td>\n",
              "      <td>2022</td>\n",
              "      <td>0000258</td>\n",
              "      <td>2020</td>\n",
              "      <td>0000264</td>\n",
              "      <td>2020</td>\n",
              "    </tr>\n",
              "    <tr>\n",
              "      <th>212</th>\n",
              "      <td>Kiribati</td>\n",
              "      <td>Oceania</td>\n",
              "      <td>0000207</td>\n",
              "      <td>2022</td>\n",
              "      <td>0000181</td>\n",
              "      <td>2020</td>\n",
              "      <td>0000181</td>\n",
              "      <td>2020</td>\n",
              "    </tr>\n",
              "    <tr>\n",
              "      <th>213</th>\n",
              "      <td>Nauru</td>\n",
              "      <td>Oceania</td>\n",
              "      <td>0000134</td>\n",
              "      <td>2022</td>\n",
              "      <td>0000133</td>\n",
              "      <td>2021</td>\n",
              "      <td>0000135</td>\n",
              "      <td>2020</td>\n",
              "    </tr>\n",
              "    <tr>\n",
              "      <th>214</th>\n",
              "      <td>Montserrat</td>\n",
              "      <td>América</td>\n",
              "      <td>—</td>\n",
              "      <td>—</td>\n",
              "      <td>—</td>\n",
              "      <td>—</td>\n",
              "      <td>0000068</td>\n",
              "      <td>2020</td>\n",
              "    </tr>\n",
              "    <tr>\n",
              "      <th>215</th>\n",
              "      <td>Tuvalu</td>\n",
              "      <td>Oceania</td>\n",
              "      <td>0000064</td>\n",
              "      <td>2022</td>\n",
              "      <td>0000063</td>\n",
              "      <td>2021</td>\n",
              "      <td>0000055</td>\n",
              "      <td>2020</td>\n",
              "    </tr>\n",
              "  </tbody>\n",
              "</table>\n",
              "<p>216 rows × 8 columns</p>\n",
              "</div>"
            ],
            "text/plain": [
              "    País/Território Região ONU FMI[26][27]            Banco Mundial[28]  \\\n",
              "    País/Território Região ONU  Estimativa        Ano        Estimativa   \n",
              "              Mundo          — 101,560,901       2024        96,100,091   \n",
              "0    Estados Unidos    América    28781083       2024          23320000   \n",
              "1             China       Ásia    18532633  [n 1]2024          17820000   \n",
              "2          Alemanha     Europa     4591100       2024           4280000   \n",
              "3             Japão       Ásia     4110452       2024           5030000   \n",
              "4             Índia       Ásia     3937011       2024           3150000   \n",
              "..              ...        ...         ...        ...               ...   \n",
              "211           Palau    Oceania     0000226       2022           0000258   \n",
              "212        Kiribati    Oceania     0000207       2022           0000181   \n",
              "213           Nauru    Oceania     0000134       2022           0000133   \n",
              "214      Montserrat    América           —          —                 —   \n",
              "215          Tuvalu    Oceania     0000064       2022           0000063   \n",
              "\n",
              "               Nações Unidas[29]             \n",
              "           Ano        Estimativa        Ano  \n",
              "          2021        85,328,323       2020  \n",
              "0         2021          21060000       2020  \n",
              "1    [n 2]2021          14690000  [n 1]2020  \n",
              "2         2021           3890000       2020  \n",
              "3         2021           5060000       2020  \n",
              "4         2021           2670000       2020  \n",
              "..         ...               ...        ...  \n",
              "211       2020           0000264       2020  \n",
              "212       2020           0000181       2020  \n",
              "213       2021           0000135       2020  \n",
              "214          —           0000068       2020  \n",
              "215       2021           0000055       2020  \n",
              "\n",
              "[216 rows x 8 columns]"
            ]
          },
          "execution_count": 4,
          "metadata": {},
          "output_type": "execute_result"
        }
      ],
      "source": [
        "Tabela_Webs[2]"
      ]
    },
    {
      "cell_type": "code",
      "execution_count": 5,
      "metadata": {
        "colab": {
          "base_uri": "https://localhost:8080/"
        },
        "id": "vtNzvAP5CCvn",
        "outputId": "dd03453e-4ae9-4789-de3a-74ea99a34626"
      },
      "outputs": [
        {
          "data": {
            "text/plain": [
              "(216, 8)"
            ]
          },
          "execution_count": 5,
          "metadata": {},
          "output_type": "execute_result"
        }
      ],
      "source": [
        "Tabela_PIB = Tabela_Webs[2]\n",
        "\n",
        "Tabela_PIB.shape"
      ]
    },
    {
      "cell_type": "code",
      "execution_count": 6,
      "metadata": {
        "colab": {
          "base_uri": "https://localhost:8080/"
        },
        "id": "gOR-wJkOEex8",
        "outputId": "b5146920-b740-4a35-a24a-7d45db6e0efe"
      },
      "outputs": [
        {
          "data": {
            "text/plain": [
              "MultiIndex([(  'País/Território', 'País/Território',       'Mundo'),\n",
              "            (       'Região ONU',      'Região ONU',           '—'),\n",
              "            (      'FMI[26][27]',      'Estimativa', '101,560,901'),\n",
              "            (      'FMI[26][27]',             'Ano',        '2024'),\n",
              "            ('Banco Mundial[28]',      'Estimativa',  '96,100,091'),\n",
              "            ('Banco Mundial[28]',             'Ano',        '2021'),\n",
              "            ('Nações Unidas[29]',      'Estimativa',  '85,328,323'),\n",
              "            ('Nações Unidas[29]',             'Ano',        '2020')],\n",
              "           )"
            ]
          },
          "execution_count": 6,
          "metadata": {},
          "output_type": "execute_result"
        }
      ],
      "source": [
        "Tabela_PIB.columns"
      ]
    },
    {
      "cell_type": "code",
      "execution_count": 7,
      "metadata": {
        "id": "X55ZR8kcFF27"
      },
      "outputs": [],
      "source": [
        "Tabela_PIB.drop(columns=['Nações Unidas[29]', 'Banco Mundial[28]'])\n",
        "\n",
        "Tabela_PIB = Tabela_PIB.drop(columns=['Nações Unidas[29]', 'Banco Mundial[28]'])"
      ]
    },
    {
      "cell_type": "code",
      "execution_count": 8,
      "metadata": {
        "colab": {
          "base_uri": "https://localhost:8080/"
        },
        "id": "COppZ5HVGB6R",
        "outputId": "d200bee5-a72d-4909-eacd-56462e45c2b0"
      },
      "outputs": [
        {
          "data": {
            "text/plain": [
              "Index(['País/Território', 'Região ONU', 'PIB (Trilhões de US$)', 'Ano'], dtype='object')"
            ]
          },
          "execution_count": 8,
          "metadata": {},
          "output_type": "execute_result"
        }
      ],
      "source": [
        "Tabela_PIB.columns = ['País/Território', 'Região ONU', 'PIB (Trilhões de US$)', 'Ano']\n",
        "\n",
        "Tabela_PIB.columns"
      ]
    },
    {
      "cell_type": "code",
      "execution_count": 9,
      "metadata": {
        "colab": {
          "base_uri": "https://localhost:8080/",
          "height": 206
        },
        "id": "mGE9V986IOld",
        "outputId": "6b095e04-2057-4531-e311-ab2e390414c5"
      },
      "outputs": [
        {
          "data": {
            "text/html": [
              "<div>\n",
              "<style scoped>\n",
              "    .dataframe tbody tr th:only-of-type {\n",
              "        vertical-align: middle;\n",
              "    }\n",
              "\n",
              "    .dataframe tbody tr th {\n",
              "        vertical-align: top;\n",
              "    }\n",
              "\n",
              "    .dataframe thead th {\n",
              "        text-align: right;\n",
              "    }\n",
              "</style>\n",
              "<table border=\"1\" class=\"dataframe\">\n",
              "  <thead>\n",
              "    <tr style=\"text-align: right;\">\n",
              "      <th></th>\n",
              "      <th>País/Território</th>\n",
              "      <th>Região ONU</th>\n",
              "      <th>PIB (Trilhões de US$)</th>\n",
              "    </tr>\n",
              "  </thead>\n",
              "  <tbody>\n",
              "    <tr>\n",
              "      <th>0</th>\n",
              "      <td>Estados Unidos</td>\n",
              "      <td>América</td>\n",
              "      <td>28781083</td>\n",
              "    </tr>\n",
              "    <tr>\n",
              "      <th>1</th>\n",
              "      <td>China</td>\n",
              "      <td>Ásia</td>\n",
              "      <td>18532633</td>\n",
              "    </tr>\n",
              "    <tr>\n",
              "      <th>2</th>\n",
              "      <td>Alemanha</td>\n",
              "      <td>Europa</td>\n",
              "      <td>4591100</td>\n",
              "    </tr>\n",
              "    <tr>\n",
              "      <th>3</th>\n",
              "      <td>Japão</td>\n",
              "      <td>Ásia</td>\n",
              "      <td>4110452</td>\n",
              "    </tr>\n",
              "    <tr>\n",
              "      <th>4</th>\n",
              "      <td>Índia</td>\n",
              "      <td>Ásia</td>\n",
              "      <td>3937011</td>\n",
              "    </tr>\n",
              "  </tbody>\n",
              "</table>\n",
              "</div>"
            ],
            "text/plain": [
              "  País/Território Região ONU PIB (Trilhões de US$)\n",
              "0  Estados Unidos    América              28781083\n",
              "1           China       Ásia              18532633\n",
              "2        Alemanha     Europa               4591100\n",
              "3           Japão       Ásia               4110452\n",
              "4           Índia       Ásia               3937011"
            ]
          },
          "execution_count": 9,
          "metadata": {},
          "output_type": "execute_result"
        }
      ],
      "source": [
        "Tabela_PIB = Tabela_PIB.drop(columns=['Ano'])\n",
        "\n",
        "Tabela_PIB.head()"
      ]
    },
    {
      "cell_type": "code",
      "execution_count": 10,
      "metadata": {
        "colab": {
          "base_uri": "https://localhost:8080/",
          "height": 423
        },
        "id": "45NloAxnOu90",
        "outputId": "790047af-562c-46d9-a387-4498dd4152e2"
      },
      "outputs": [
        {
          "data": {
            "text/html": [
              "<div>\n",
              "<style scoped>\n",
              "    .dataframe tbody tr th:only-of-type {\n",
              "        vertical-align: middle;\n",
              "    }\n",
              "\n",
              "    .dataframe tbody tr th {\n",
              "        vertical-align: top;\n",
              "    }\n",
              "\n",
              "    .dataframe thead th {\n",
              "        text-align: right;\n",
              "    }\n",
              "</style>\n",
              "<table border=\"1\" class=\"dataframe\">\n",
              "  <thead>\n",
              "    <tr style=\"text-align: right;\">\n",
              "      <th></th>\n",
              "      <th>Posição</th>\n",
              "      <th>País/Território</th>\n",
              "      <th>Região ONU</th>\n",
              "      <th>PIB (Trilhões de US$)</th>\n",
              "    </tr>\n",
              "  </thead>\n",
              "  <tbody>\n",
              "    <tr>\n",
              "      <th>0</th>\n",
              "      <td>0</td>\n",
              "      <td>Estados Unidos</td>\n",
              "      <td>América</td>\n",
              "      <td>28781083</td>\n",
              "    </tr>\n",
              "    <tr>\n",
              "      <th>1</th>\n",
              "      <td>1</td>\n",
              "      <td>China</td>\n",
              "      <td>Ásia</td>\n",
              "      <td>18532633</td>\n",
              "    </tr>\n",
              "    <tr>\n",
              "      <th>2</th>\n",
              "      <td>2</td>\n",
              "      <td>Alemanha</td>\n",
              "      <td>Europa</td>\n",
              "      <td>4591100</td>\n",
              "    </tr>\n",
              "    <tr>\n",
              "      <th>3</th>\n",
              "      <td>3</td>\n",
              "      <td>Japão</td>\n",
              "      <td>Ásia</td>\n",
              "      <td>4110452</td>\n",
              "    </tr>\n",
              "    <tr>\n",
              "      <th>4</th>\n",
              "      <td>4</td>\n",
              "      <td>Índia</td>\n",
              "      <td>Ásia</td>\n",
              "      <td>3937011</td>\n",
              "    </tr>\n",
              "    <tr>\n",
              "      <th>...</th>\n",
              "      <td>...</td>\n",
              "      <td>...</td>\n",
              "      <td>...</td>\n",
              "      <td>...</td>\n",
              "    </tr>\n",
              "    <tr>\n",
              "      <th>211</th>\n",
              "      <td>211</td>\n",
              "      <td>Palau</td>\n",
              "      <td>Oceania</td>\n",
              "      <td>0000226</td>\n",
              "    </tr>\n",
              "    <tr>\n",
              "      <th>212</th>\n",
              "      <td>212</td>\n",
              "      <td>Kiribati</td>\n",
              "      <td>Oceania</td>\n",
              "      <td>0000207</td>\n",
              "    </tr>\n",
              "    <tr>\n",
              "      <th>213</th>\n",
              "      <td>213</td>\n",
              "      <td>Nauru</td>\n",
              "      <td>Oceania</td>\n",
              "      <td>0000134</td>\n",
              "    </tr>\n",
              "    <tr>\n",
              "      <th>214</th>\n",
              "      <td>214</td>\n",
              "      <td>Montserrat</td>\n",
              "      <td>América</td>\n",
              "      <td>—</td>\n",
              "    </tr>\n",
              "    <tr>\n",
              "      <th>215</th>\n",
              "      <td>215</td>\n",
              "      <td>Tuvalu</td>\n",
              "      <td>Oceania</td>\n",
              "      <td>0000064</td>\n",
              "    </tr>\n",
              "  </tbody>\n",
              "</table>\n",
              "<p>216 rows × 4 columns</p>\n",
              "</div>"
            ],
            "text/plain": [
              "     Posição País/Território Região ONU PIB (Trilhões de US$)\n",
              "0          0  Estados Unidos    América              28781083\n",
              "1          1           China       Ásia              18532633\n",
              "2          2        Alemanha     Europa               4591100\n",
              "3          3           Japão       Ásia               4110452\n",
              "4          4           Índia       Ásia               3937011\n",
              "..       ...             ...        ...                   ...\n",
              "211      211           Palau    Oceania               0000226\n",
              "212      212        Kiribati    Oceania               0000207\n",
              "213      213           Nauru    Oceania               0000134\n",
              "214      214      Montserrat    América                     —\n",
              "215      215          Tuvalu    Oceania               0000064\n",
              "\n",
              "[216 rows x 4 columns]"
            ]
          },
          "execution_count": 10,
          "metadata": {},
          "output_type": "execute_result"
        }
      ],
      "source": [
        "Tabela_PIB['Posição'] = Tabela_PIB.index.get_level_values(0)\n",
        "\n",
        "Tabela_PIB = Tabela_PIB[['Posição'] + [col for col in Tabela_PIB.columns if col != 'Posição']]\n",
        "\n",
        "Tabela_PIB"
      ]
    },
    {
      "cell_type": "code",
      "execution_count": 11,
      "metadata": {
        "colab": {
          "base_uri": "https://localhost:8080/"
        },
        "id": "I3_XypFMCevl",
        "outputId": "9427b17e-195c-4af8-baf5-6b72e217f71a"
      },
      "outputs": [
        {
          "data": {
            "text/plain": [
              "Posição                  0\n",
              "País/Território          0\n",
              "Região ONU               0\n",
              "PIB (Trilhões de US$)    0\n",
              "dtype: int64"
            ]
          },
          "execution_count": 11,
          "metadata": {},
          "output_type": "execute_result"
        }
      ],
      "source": [
        "# Campos Nulos\n",
        "Tabela_PIB.isnull().sum()"
      ]
    },
    {
      "cell_type": "code",
      "execution_count": 12,
      "metadata": {
        "id": "lt2jTf5PRO3l"
      },
      "outputs": [],
      "source": [
        "# Verificar campos\n",
        "Tabela_PIB = Tabela_PIB[ Tabela_PIB['PIB (Trilhões de US$)'] != '—']\n"
      ]
    },
    {
      "cell_type": "code",
      "execution_count": 13,
      "metadata": {
        "colab": {
          "base_uri": "https://localhost:8080/"
        },
        "id": "J6Q7GObDC0ys",
        "outputId": "36075039-3c98-42c2-e8e4-ef697f0c6f3b"
      },
      "outputs": [
        {
          "data": {
            "text/plain": [
              "Posição                   int64\n",
              "País/Território          object\n",
              "Região ONU               object\n",
              "PIB (Trilhões de US$)    object\n",
              "dtype: object"
            ]
          },
          "execution_count": 13,
          "metadata": {},
          "output_type": "execute_result"
        }
      ],
      "source": [
        "# Verificar coluas\n",
        "Tabela_PIB.dtypes"
      ]
    },
    {
      "cell_type": "code",
      "execution_count": 14,
      "metadata": {
        "colab": {
          "base_uri": "https://localhost:8080/",
          "height": 363
        },
        "id": "hPn9KY1nDK5O",
        "outputId": "f6e1ba9e-196e-416c-88ee-4306dd7c4cc7"
      },
      "outputs": [
        {
          "data": {
            "text/html": [
              "<div>\n",
              "<style scoped>\n",
              "    .dataframe tbody tr th:only-of-type {\n",
              "        vertical-align: middle;\n",
              "    }\n",
              "\n",
              "    .dataframe tbody tr th {\n",
              "        vertical-align: top;\n",
              "    }\n",
              "\n",
              "    .dataframe thead th {\n",
              "        text-align: right;\n",
              "    }\n",
              "</style>\n",
              "<table border=\"1\" class=\"dataframe\">\n",
              "  <thead>\n",
              "    <tr style=\"text-align: right;\">\n",
              "      <th></th>\n",
              "      <th>Posição</th>\n",
              "      <th>País/Território</th>\n",
              "      <th>Região ONU</th>\n",
              "      <th>PIB (Trilhões de US$)</th>\n",
              "    </tr>\n",
              "  </thead>\n",
              "  <tbody>\n",
              "    <tr>\n",
              "      <th>0</th>\n",
              "      <td>0</td>\n",
              "      <td>Estados Unidos</td>\n",
              "      <td>América</td>\n",
              "      <td>28781083</td>\n",
              "    </tr>\n",
              "    <tr>\n",
              "      <th>1</th>\n",
              "      <td>1</td>\n",
              "      <td>China</td>\n",
              "      <td>Ásia</td>\n",
              "      <td>18532633</td>\n",
              "    </tr>\n",
              "    <tr>\n",
              "      <th>2</th>\n",
              "      <td>2</td>\n",
              "      <td>Alemanha</td>\n",
              "      <td>Europa</td>\n",
              "      <td>4591100</td>\n",
              "    </tr>\n",
              "    <tr>\n",
              "      <th>3</th>\n",
              "      <td>3</td>\n",
              "      <td>Japão</td>\n",
              "      <td>Ásia</td>\n",
              "      <td>4110452</td>\n",
              "    </tr>\n",
              "    <tr>\n",
              "      <th>4</th>\n",
              "      <td>4</td>\n",
              "      <td>Índia</td>\n",
              "      <td>Ásia</td>\n",
              "      <td>3937011</td>\n",
              "    </tr>\n",
              "    <tr>\n",
              "      <th>5</th>\n",
              "      <td>5</td>\n",
              "      <td>Reino Unido</td>\n",
              "      <td>Europa</td>\n",
              "      <td>3495261</td>\n",
              "    </tr>\n",
              "    <tr>\n",
              "      <th>6</th>\n",
              "      <td>6</td>\n",
              "      <td>França</td>\n",
              "      <td>Europa</td>\n",
              "      <td>3130014</td>\n",
              "    </tr>\n",
              "    <tr>\n",
              "      <th>7</th>\n",
              "      <td>7</td>\n",
              "      <td>Brasil</td>\n",
              "      <td>América</td>\n",
              "      <td>2331391</td>\n",
              "    </tr>\n",
              "    <tr>\n",
              "      <th>8</th>\n",
              "      <td>8</td>\n",
              "      <td>Itália</td>\n",
              "      <td>Europa</td>\n",
              "      <td>2328028</td>\n",
              "    </tr>\n",
              "    <tr>\n",
              "      <th>9</th>\n",
              "      <td>9</td>\n",
              "      <td>Canadá</td>\n",
              "      <td>América</td>\n",
              "      <td>2242182</td>\n",
              "    </tr>\n",
              "  </tbody>\n",
              "</table>\n",
              "</div>"
            ],
            "text/plain": [
              "   Posição País/Território Região ONU  PIB (Trilhões de US$)\n",
              "0        0  Estados Unidos    América               28781083\n",
              "1        1           China       Ásia               18532633\n",
              "2        2        Alemanha     Europa                4591100\n",
              "3        3           Japão       Ásia                4110452\n",
              "4        4           Índia       Ásia                3937011\n",
              "5        5     Reino Unido     Europa                3495261\n",
              "6        6          França     Europa                3130014\n",
              "7        7          Brasil    América                2331391\n",
              "8        8          Itália     Europa                2328028\n",
              "9        9          Canadá    América                2242182"
            ]
          },
          "execution_count": 14,
          "metadata": {},
          "output_type": "execute_result"
        }
      ],
      "source": [
        "# Ajustar os valores\n",
        "Tabela_PIB['PIB (Trilhões de US$)'] = pd.to_numeric( Tabela_PIB['PIB (Trilhões de US$)'] )\n",
        "\n",
        "Tabela_PIB.head(10)"
      ]
    },
    {
      "cell_type": "code",
      "execution_count": 15,
      "metadata": {
        "colab": {
          "base_uri": "https://localhost:8080/",
          "height": 186
        },
        "id": "D9-N1cnrREX4",
        "outputId": "870ac3e5-56b3-4e2f-f5dd-a3b877c5c319"
      },
      "outputs": [
        {
          "data": {
            "text/plain": [
              "bs4.BeautifulSoup"
            ]
          },
          "execution_count": 15,
          "metadata": {},
          "output_type": "execute_result"
        }
      ],
      "source": [
        "# coleta das imagens\n",
        "Pagina_Web = requests.get( Url )\n",
        "\n",
        "#BS4\n",
        "Coleta = BeautifulSoup( Pagina_Web.text, 'html.parser')\n",
        "\n",
        "# Tipo\n",
        "type( Coleta )"
      ]
    },
    {
      "cell_type": "code",
      "execution_count": 16,
      "metadata": {
        "colab": {
          "base_uri": "https://localhost:8080/"
        },
        "id": "w63ABrhkUS7m",
        "outputId": "c2b3069f-fe88-4238-9a7a-7e5cddeb2a7b"
      },
      "outputs": [
        {
          "data": {
            "text/plain": [
              "218"
            ]
          },
          "execution_count": 16,
          "metadata": {},
          "output_type": "execute_result"
        }
      ],
      "source": [
        "# Capturar as imagens\n",
        "\n",
        "Imagens = Coleta.find_all('img', attrs={'class' : 'mw-file-element'})\n",
        "\n",
        "len( Imagens )"
      ]
    },
    {
      "cell_type": "code",
      "execution_count": 17,
      "metadata": {
        "colab": {
          "base_uri": "https://localhost:8080/"
        },
        "id": "1lm1IralUWTl",
        "outputId": "9ab0c70c-a84a-4263-a300-8eb64406f54d"
      },
      "outputs": [
        {
          "name": "stdout",
          "output_type": "stream",
          "text": [
            "https://upload.wikimedia.org/wikipedia/commons/thumb/b/ba/Flag_of_Germany.svg/22px-Flag_of_Germany.svg.png\n"
          ]
        }
      ],
      "source": [
        "# Experimento\n",
        "print('https:' + Imagens[3]['src'])"
      ]
    },
    {
      "cell_type": "code",
      "execution_count": 18,
      "metadata": {
        "colab": {
          "base_uri": "https://localhost:8080/"
        },
        "id": "7FJijzWVVyuZ",
        "outputId": "39ede906-cd91-4789-9891-0f028c409b56"
      },
      "outputs": [
        {
          "data": {
            "text/plain": [
              "218"
            ]
          },
          "execution_count": 18,
          "metadata": {},
          "output_type": "execute_result"
        }
      ],
      "source": [
        "# Extraindo o link da imagem\n",
        "\n",
        "# Lista para receber os links\n",
        "Links = []\n",
        "\n",
        "# Loop\n",
        "for Link in Imagens:\n",
        "  # Ajustando o link da imagem\n",
        "  Link_Imagem = 'https:' + Link['src']\n",
        "  # Salvando a informação\n",
        "  Links.append( Link_Imagem )\n",
        "\n",
        "len( Links)"
      ]
    },
    {
      "cell_type": "code",
      "execution_count": 19,
      "metadata": {
        "colab": {
          "base_uri": "https://localhost:8080/",
          "height": 51
        },
        "id": "L0NU-1C_We_d",
        "outputId": "8d16a4c8-28da-454f-94fe-74dd2412db30"
      },
      "outputs": [
        {
          "data": {
            "image/png": "[encoded data removed]",
            "text/plain": [
              "<PIL.PngImagePlugin.PngImageFile image mode=RGBA size=42x34>"
            ]
          },
          "execution_count": 19,
          "metadata": {},
          "output_type": "execute_result"
        }
      ],
      "source": [
        "# Libs\n",
        "from PIL import Image\n",
        "from io import BytesIO\n",
        "\n",
        "# Exepirmento\n",
        "Teste = requests.get( Links[0] )\n",
        "\n",
        "Image.open(BytesIO(Teste.content))"
      ]
    },
    {
      "cell_type": "code",
      "execution_count": 20,
      "metadata": {
        "colab": {
          "base_uri": "https://localhost:8080/",
          "height": 36
        },
        "id": "w7BIOP33XqNC",
        "outputId": "b0a00527-7f51-4b3e-f0f1-b489bfc232f8"
      },
      "outputs": [
        {
          "data": {
            "text/plain": [
              "'https://upload.wikimedia.org/wikipedia/commons/thumb/9/98/Ambox_current_red.svg/42px-Ambox_current_red.svg.png'"
            ]
          },
          "execution_count": 20,
          "metadata": {},
          "output_type": "execute_result"
        }
      ],
      "source": [
        "# Removendo o valor da lista\n",
        "Links.pop(0)"
      ]
    },
    {
      "cell_type": "code",
      "execution_count": 21,
      "metadata": {
        "colab": {
          "base_uri": "https://localhost:8080/",
          "height": 517
        },
        "id": "FtzIXsqpYWf_",
        "outputId": "b5829a84-0741-4db6-ccea-9cad042aae87"
      },
      "outputs": [
        {
          "data": {
            "application/vnd.plotly.v1+json": {
              "config": {
                "plotlyServerURL": "https://plot.ly"
              },
              "data": [
                {
                  "text": [
                    28781083,
                    18532633,
                    4591100,
                    4110452,
                    3937011,
                    3495261,
                    3130014,
                    2331391,
                    2328028,
                    2242182
                  ],
                  "textposition": "outside",
                  "texttemplate": "%{text:.3s}",
                  "type": "bar",
                  "x": [
                    "Estados Unidos",
                    "China",
                    "Alemanha",
                    "Japão",
                    "Índia",
                    "Reino Unido",
                    "França",
                    "Brasil",
                    "Itália",
                    "Canadá"
                  ],
                  "y": [
                    28781083,
                    18532633,
                    4591100,
                    4110452,
                    3937011,
                    3495261,
                    3130014,
                    2331391,
                    2328028,
                    2242182
                  ]
                }
              ],
              "layout": {
                "annotations": [
                  {
                    "font": {
                      "size": 16
                    },
                    "showarrow": false,
                    "text": "Top 10 PIBs mundiais",
                    "x": 0.5,
                    "xanchor": "center",
                    "xref": "paper",
                    "y": 1,
                    "yanchor": "bottom",
                    "yref": "paper"
                  }
                ],
                "height": 500,
                "images": [
                  {
                    "sizex": 0.05,
                    "sizey": 0.05,
                    "source": "data:image/png;base64,iVBORw0KGgoAAAANSUhEUgAAABYAAAAMCAMAAABRJ730AAAAsVBMVEWzGkErTHYMM2MrTXYQNmUnSXQVOmhBRG67MlcpS3UvUXo7WoEzU3wyUno/XoMvUHk1VXxJX4TvzdYWO2gtTnceQm4tTXcwUHkbP2stTng3QmzMZYA/XYMzVHw1VX1AX4QvUHg6WYBFVHzem60sTXcgRHA4V38jR3I2Vn4wUXkoSnVHV33dl6oZPmscQGwqTXYgRG9DTXbNaIO3prjCrb3tytO9Nlr35+vCSGnnuMT////gLDncAAAAAXRSTlOUt4SPOwAAAGlJREFUeJxtwc0CgUAUBtBvkphMqEYipCgmVPLb+7+YjcVd3HMgrIGwh8IZjSlId6K86WzuBxRCoRfRMl6tEwpSbba7dJ/lBwrHovROZ1NdrhTkzejaNO29o/D4e74ovFn4sPBloWeB9wOY4yWpIWsL8wAAAABJRU5ErkJggg==",
                    "x": 0.062,
                    "xanchor": "right",
                    "y": -0.15,
                    "yanchor": "bottom"
                  },
                  {
                    "sizex": 0.05,
                    "sizey": 0.05,
                    "source": "data:image/png;base64,iVBORw0KGgoAAAANSUhEUgAAABYAAAAPCAMAAADXs89aAAAAUVBMVEXvHCXuHCXuICTwMSLvLCL3jhL5rQ3vJiPuHyXyWBvvLyLvKSP5sgz//wD93wXxSR7zZBn6vQv4pw7xPh/vKCPwMyHuHSXzYRr2jBPvJCT///++FbpsAAAAAXRSTlOrAeKiBgAAAFBJREFUeJxjYIQAJkYUwADEzIyMLKyYwmzsjIwcnFyowtw8vHz8jIz8LGiqBQSFgAxhETRhUSBkFBMXRTcbCFgkxDCsBAFJTJdgAQMhjB0AAEUKArIh5jnhAAAAAElFTkSuQmCC",
                    "x": 0.162,
                    "xanchor": "right",
                    "y": -0.15,
                    "yanchor": "bottom"
                  },
                  {
                    "sizex": 0.05,
                    "sizey": 0.05,
                    "source": "data:image/png;base64,iVBORw0KGgoAAAANSUhEUgAAABYAAAAOBAMAAADZH/H+AAAAFVBMVEWvVAAAAACFAADdAADkKQD/zgD////sE99XAAAAAXRSTlN9blLV5wAAACBJREFUeJxjEEQABmLYSgjAYIwAONkuCMAQigBEsZEAAGrTHH5SSlE7AAAAAElFTkSuQmCC",
                    "x": 0.262,
                    "xanchor": "right",
                    "y": -0.15,
                    "yanchor": "bottom"
                  },
                  {
                    "sizex": 0.05,
                    "sizey": 0.05,
                    "source": "data:image/png;base64,iVBORw0KGgoAAAANSUhEUgAAABYAAAAPCAMAAADXs89aAAAAY1BMVEX////////9+frtu8fLOFu8AS7LOVztvMjop7e9Ai+8AC29Ay/oqLf88/XBEjzBEz389Pbrs8DstcLmoLHmobLwx9HxydP//v7KNFjKNln23OLFIUjFIkn23ePhjqLRUXDij6PwOnEXAAAAAXRSTlOrAeKiBgAAAFlJREFUeJyNz0cSgCAQRFFEMaBjVsx4/1MaWTRFlf7lW3Uzzxn7ZM4d7AdChJHNcSLP0gyZcnlXlMCVfKuBG8MtcGe4B1bDo6PCJdN86bLau2nTeqf/54HdHSOwBPkpf4S6AAAAAElFTkSuQmCC",
                    "x": 0.36200000000000004,
                    "xanchor": "right",
                    "y": -0.15,
                    "yanchor": "bottom"
                  },
                  {
                    "sizex": 0.05,
                    "sizey": 0.05,
                    "source": "data:image/png;base64,iVBORw0KGgoAAAANSUhEUgAAABYAAAAPCAMAAADXs89aAAAAUVBMVEVCj2r/aCD/eDj///+0tN2Pjc61tN3r6valo9ekodSjotSiodbs6/bLy+fAv+J8esJ7eMHAwODMzOj4+PyIh8jBv+OHhsfH3tO4zM59hbwEajiry1GIAAAAAXRSTlPjeeVrpAAAAEVJREFUeJxjYMQKGKgizIQVMDDDAAsrKxucAxdm5+Dk4ubBEObl4xcQFMIQFhbhExUThguLw4CEpKQEnMMghRVQRxg7AABE/Q1YuQlIUgAAAABJRU5ErkJggg==",
                    "x": 0.462,
                    "xanchor": "right",
                    "y": -0.15,
                    "yanchor": "bottom"
                  },
                  {
                    "sizex": 0.05,
                    "sizey": 0.05,
                    "source": "data:image/png;base64,iVBORw0KGgoAAAANSUhEUgAAABYAAAALCAMAAABMIo1MAAAAnFBMVEXYU2nxxMvt7/SAkLQRL3IBIWnTxtTIEC4NK3B5d57WboKCgabZeIvXUWfwv8fs7vR8jLEOLHF3eJ/Xd4lWa5tecqCkpb/kpLDki5r11Nrz9Pjs3OPs2uCqtc1gdKHeb4HcZXmgrMbw8vb22t7ljpzknKnt2uHr2uKvrMRwgqro6/Hyx87YVWvXan6Hg6bWaX6Ef6PYcIOHg6f///9GKYl2AAAAhklEQVR4nHVP1w4CMQxzgVzKuAVlr2Nzg/n/H0dDKQgJ/OKhJIoBVas3yCJgDoR1swWFdieM4iT1ceo8SHd7YWQ3JPaaYIzpD4aj8WTKPBOeL2yEpUfGnL0N+Cf+Tcvt1Xqz3e2ZD8LH523SeVFWp7P75KUJSVxWl+vnb+dtodv9u2VeKDwAZbQRS/0Ec4UAAAAASUVORK5CYII=",
                    "x": 0.562,
                    "xanchor": "right",
                    "y": -0.15,
                    "yanchor": "bottom"
                  },
                  {
                    "sizex": 0.05,
                    "sizey": 0.05,
                    "source": "data:image/png;base64,iVBORw0KGgoAAAANSUhEUgAAABYAAAAPBAMAAAASQyJbAAAAHlBMVEVKVne5n63zxcnokpzOECUAJlSqt8b////vsbjOESa/WK1yAAAABXRSTlP26ePRq9zrTTkAAAAhSURBVHicYwgNDQ0rLy/vnDlzJsNgZgMBo5KSkomLiwsAXlpILPuGjfIAAAAASUVORK5CYII=",
                    "x": 0.6619999999999999,
                    "xanchor": "right",
                    "y": -0.15,
                    "yanchor": "bottom"
                  },
                  {
                    "sizex": 0.05,
                    "sizey": 0.05,
                    "source": "data:image/png;base64,iVBORw0KGgoAAAANSUhEUgAAABYAAAAQCAMAAAAlM38UAAABF1BMVEUAmzoAmzoDnDkupzDI0QzO0gs0qC4Jnjh/vR343gHmzgv63QGQwhkLnjc9qyzW1AnMuxcyS18AJ3YzTF7Nuxfc1ghFrSoQnzaYxBf93wDeyA8NMHALL3HbxRD+3wCpyRMUoDVNryjj1waSoYp3na57n7CEoLhxlKw8VpNfa0rn2QVetCU3TWcMM38UOYBuiaWBorQ+Wm0ipDK5zRBJXmAROIABKHcQN38SOYAUOX+NoJvAzw4npTFVsSfq2gWooSwONX8VOoUHLnwTOoAwVYOqoy7u2wRmtiMBmzoXoTWhxxV1e0ABKHYgRYF5f0GyyxEbozRKrynf1wfKuhiBhTrk2AZSsScKnjiHvxv73gENnjc4qi3///9fUTaQAAAAAXRSTlNm5DccCwAAAK5JREFUeJxjYMQKGBBMJiZswswsrGwYwuwcnFxc3Dy8qMJ8/AKCQkLCIqJiSMLiEpJS0kJAICMrJ68AE1ZUkpNTVlFVU9cQ0pST09IGCzPJywGBjpCukJ6+gSGILc8EUm1kDGSamJqZWwhZWgGZ1jZQs23t5OwdHJ2cdV1c5dzcPeAu8fSS8/YxM/P1k/MPQHF3YFBwSEhwaBi6L8MjIiUlorCESXQ01qBCCUHsAAAi0RZt3x5jngAAAABJRU5ErkJggg==",
                    "x": 0.762,
                    "xanchor": "right",
                    "y": -0.15,
                    "yanchor": "bottom"
                  },
                  {
                    "sizex": 0.05,
                    "sizey": 0.05,
                    "source": "data:image/png;base64,iVBORw0KGgoAAAANSUhEUgAAABYAAAAPBAMAAAASQyJbAAAAHlBMVEUAkkaLzavA5NHDt6zJZGYAkkar28L////vuLzOKzek0kluAAAABXRSTlOr0ePp9iuyB78AAAAhSURBVHicYwgNDQ0rLy/vnDlzJsNgZgMBo5KSkomLiwsAXlpILPuGjfIAAAAASUVORK5CYII=",
                    "x": 0.8619999999999999,
                    "xanchor": "right",
                    "y": -0.15,
                    "yanchor": "bottom"
                  },
                  {
                    "sizex": 0.05,
                    "sizey": 0.05,
                    "source": "data:image/png;base64,iVBORw0KGgoAAAANSUhEUgAAABYAAAALCAMAAABMIo1MAAAAWlBMVEXrmpT++vrVKx7////qlY/ywLzzwb3sn5rbS0D//f3//v754N7to53+/PvbST7XNinhZ1799vXbRzzzxcHYOS3XNyryv7v20s/VLSH88O/539354uD42tj429lt1n5sAAAAAnRSTlP1/kVdB9sAAABlSURBVHicZY/JDoAgEENhQFkEWVxA0P//TQMmGrCHNnmHmRZBESKv0AOq0wKGsTjtMOOc9VjISQGoSYoG69lYAGtm3WDna4J37e1lLbnt/csAMUL4NTlSzun4FyTn1feuKzH+Vt4VSQSZmSp9WQAAAABJRU5ErkJggg==",
                    "x": 0.962,
                    "xanchor": "right",
                    "y": -0.15,
                    "yanchor": "bottom"
                  }
                ],
                "showlegend": false,
                "template": {
                  "data": {
                    "bar": [
                      {
                        "error_x": {
                          "color": "#2a3f5f"
                        },
                        "error_y": {
                          "color": "#2a3f5f"
                        },
                        "marker": {
                          "line": {
                            "color": "#E5ECF6",
                            "width": 0.5
                          },
                          "pattern": {
                            "fillmode": "overlay",
                            "size": 10,
                            "solidity": 0.2
                          }
                        },
                        "type": "bar"
                      }
                    ],
                    "barpolar": [
                      {
                        "marker": {
                          "line": {
                            "color": "#E5ECF6",
                            "width": 0.5
                          },
                          "pattern": {
                            "fillmode": "overlay",
                            "size": 10,
                            "solidity": 0.2
                          }
                        },
                        "type": "barpolar"
                      }
                    ],
                    "carpet": [
                      {
                        "aaxis": {
                          "endlinecolor": "#2a3f5f",
                          "gridcolor": "white",
                          "linecolor": "white",
                          "minorgridcolor": "white",
                          "startlinecolor": "#2a3f5f"
                        },
                        "baxis": {
                          "endlinecolor": "#2a3f5f",
                          "gridcolor": "white",
                          "linecolor": "white",
                          "minorgridcolor": "white",
                          "startlinecolor": "#2a3f5f"
                        },
                        "type": "carpet"
                      }
                    ],
                    "choropleth": [
                      {
                        "colorbar": {
                          "outlinewidth": 0,
                          "ticks": ""
                        },
                        "type": "choropleth"
                      }
                    ],
                    "contour": [
                      {
                        "colorbar": {
                          "outlinewidth": 0,
                          "ticks": ""
                        },
                        "colorscale": [
                          [
                            0,
                            "#0d0887"
                          ],
                          [
                            0.1111111111111111,
                            "#46039f"
                          ],
                          [
                            0.2222222222222222,
                            "#7201a8"
                          ],
                          [
                            0.3333333333333333,
                            "#9c179e"
                          ],
                          [
                            0.4444444444444444,
                            "#bd3786"
                          ],
                          [
                            0.5555555555555556,
                            "#d8576b"
                          ],
                          [
                            0.6666666666666666,
                            "#ed7953"
                          ],
                          [
                            0.7777777777777778,
                            "#fb9f3a"
                          ],
                          [
                            0.8888888888888888,
                            "#fdca26"
                          ],
                          [
                            1,
                            "#f0f921"
                          ]
                        ],
                        "type": "contour"
                      }
                    ],
                    "contourcarpet": [
                      {
                        "colorbar": {
                          "outlinewidth": 0,
                          "ticks": ""
                        },
                        "type": "contourcarpet"
                      }
                    ],
                    "heatmap": [
                      {
                        "colorbar": {
                          "outlinewidth": 0,
                          "ticks": ""
                        },
                        "colorscale": [
                          [
                            0,
                            "#0d0887"
                          ],
                          [
                            0.1111111111111111,
                            "#46039f"
                          ],
                          [
                            0.2222222222222222,
                            "#7201a8"
                          ],
                          [
                            0.3333333333333333,
                            "#9c179e"
                          ],
                          [
                            0.4444444444444444,
                            "#bd3786"
                          ],
                          [
                            0.5555555555555556,
                            "#d8576b"
                          ],
                          [
                            0.6666666666666666,
                            "#ed7953"
                          ],
                          [
                            0.7777777777777778,
                            "#fb9f3a"
                          ],
                          [
                            0.8888888888888888,
                            "#fdca26"
                          ],
                          [
                            1,
                            "#f0f921"
                          ]
                        ],
                        "type": "heatmap"
                      }
                    ],
                    "heatmapgl": [
                      {
                        "colorbar": {
                          "outlinewidth": 0,
                          "ticks": ""
                        },
                        "colorscale": [
                          [
                            0,
                            "#0d0887"
                          ],
                          [
                            0.1111111111111111,
                            "#46039f"
                          ],
                          [
                            0.2222222222222222,
                            "#7201a8"
                          ],
                          [
                            0.3333333333333333,
                            "#9c179e"
                          ],
                          [
                            0.4444444444444444,
                            "#bd3786"
                          ],
                          [
                            0.5555555555555556,
                            "#d8576b"
                          ],
                          [
                            0.6666666666666666,
                            "#ed7953"
                          ],
                          [
                            0.7777777777777778,
                            "#fb9f3a"
                          ],
                          [
                            0.8888888888888888,
                            "#fdca26"
                          ],
                          [
                            1,
                            "#f0f921"
                          ]
                        ],
                        "type": "heatmapgl"
                      }
                    ],
                    "histogram": [
                      {
                        "marker": {
                          "pattern": {
                            "fillmode": "overlay",
                            "size": 10,
                            "solidity": 0.2
                          }
                        },
                        "type": "histogram"
                      }
                    ],
                    "histogram2d": [
                      {
                        "colorbar": {
                          "outlinewidth": 0,
                          "ticks": ""
                        },
                        "colorscale": [
                          [
                            0,
                            "#0d0887"
                          ],
                          [
                            0.1111111111111111,
                            "#46039f"
                          ],
                          [
                            0.2222222222222222,
                            "#7201a8"
                          ],
                          [
                            0.3333333333333333,
                            "#9c179e"
                          ],
                          [
                            0.4444444444444444,
                            "#bd3786"
                          ],
                          [
                            0.5555555555555556,
                            "#d8576b"
                          ],
                          [
                            0.6666666666666666,
                            "#ed7953"
                          ],
                          [
                            0.7777777777777778,
                            "#fb9f3a"
                          ],
                          [
                            0.8888888888888888,
                            "#fdca26"
                          ],
                          [
                            1,
                            "#f0f921"
                          ]
                        ],
                        "type": "histogram2d"
                      }
                    ],
                    "histogram2dcontour": [
                      {
                        "colorbar": {
                          "outlinewidth": 0,
                          "ticks": ""
                        },
                        "colorscale": [
                          [
                            0,
                            "#0d0887"
                          ],
                          [
                            0.1111111111111111,
                            "#46039f"
                          ],
                          [
                            0.2222222222222222,
                            "#7201a8"
                          ],
                          [
                            0.3333333333333333,
                            "#9c179e"
                          ],
                          [
                            0.4444444444444444,
                            "#bd3786"
                          ],
                          [
                            0.5555555555555556,
                            "#d8576b"
                          ],
                          [
                            0.6666666666666666,
                            "#ed7953"
                          ],
                          [
                            0.7777777777777778,
                            "#fb9f3a"
                          ],
                          [
                            0.8888888888888888,
                            "#fdca26"
                          ],
                          [
                            1,
                            "#f0f921"
                          ]
                        ],
                        "type": "histogram2dcontour"
                      }
                    ],
                    "mesh3d": [
                      {
                        "colorbar": {
                          "outlinewidth": 0,
                          "ticks": ""
                        },
                        "type": "mesh3d"
                      }
                    ],
                    "parcoords": [
                      {
                        "line": {
                          "colorbar": {
                            "outlinewidth": 0,
                            "ticks": ""
                          }
                        },
                        "type": "parcoords"
                      }
                    ],
                    "pie": [
                      {
                        "automargin": true,
                        "type": "pie"
                      }
                    ],
                    "scatter": [
                      {
                        "fillpattern": {
                          "fillmode": "overlay",
                          "size": 10,
                          "solidity": 0.2
                        },
                        "type": "scatter"
                      }
                    ],
                    "scatter3d": [
                      {
                        "line": {
                          "colorbar": {
                            "outlinewidth": 0,
                            "ticks": ""
                          }
                        },
                        "marker": {
                          "colorbar": {
                            "outlinewidth": 0,
                            "ticks": ""
                          }
                        },
                        "type": "scatter3d"
                      }
                    ],
                    "scattercarpet": [
                      {
                        "marker": {
                          "colorbar": {
                            "outlinewidth": 0,
                            "ticks": ""
                          }
                        },
                        "type": "scattercarpet"
                      }
                    ],
                    "scattergeo": [
                      {
                        "marker": {
                          "colorbar": {
                            "outlinewidth": 0,
                            "ticks": ""
                          }
                        },
                        "type": "scattergeo"
                      }
                    ],
                    "scattergl": [
                      {
                        "marker": {
                          "colorbar": {
                            "outlinewidth": 0,
                            "ticks": ""
                          }
                        },
                        "type": "scattergl"
                      }
                    ],
                    "scattermapbox": [
                      {
                        "marker": {
                          "colorbar": {
                            "outlinewidth": 0,
                            "ticks": ""
                          }
                        },
                        "type": "scattermapbox"
                      }
                    ],
                    "scatterpolar": [
                      {
                        "marker": {
                          "colorbar": {
                            "outlinewidth": 0,
                            "ticks": ""
                          }
                        },
                        "type": "scatterpolar"
                      }
                    ],
                    "scatterpolargl": [
                      {
                        "marker": {
                          "colorbar": {
                            "outlinewidth": 0,
                            "ticks": ""
                          }
                        },
                        "type": "scatterpolargl"
                      }
                    ],
                    "scatterternary": [
                      {
                        "marker": {
                          "colorbar": {
                            "outlinewidth": 0,
                            "ticks": ""
                          }
                        },
                        "type": "scatterternary"
                      }
                    ],
                    "surface": [
                      {
                        "colorbar": {
                          "outlinewidth": 0,
                          "ticks": ""
                        },
                        "colorscale": [
                          [
                            0,
                            "#0d0887"
                          ],
                          [
                            0.1111111111111111,
                            "#46039f"
                          ],
                          [
                            0.2222222222222222,
                            "#7201a8"
                          ],
                          [
                            0.3333333333333333,
                            "#9c179e"
                          ],
                          [
                            0.4444444444444444,
                            "#bd3786"
                          ],
                          [
                            0.5555555555555556,
                            "#d8576b"
                          ],
                          [
                            0.6666666666666666,
                            "#ed7953"
                          ],
                          [
                            0.7777777777777778,
                            "#fb9f3a"
                          ],
                          [
                            0.8888888888888888,
                            "#fdca26"
                          ],
                          [
                            1,
                            "#f0f921"
                          ]
                        ],
                        "type": "surface"
                      }
                    ],
                    "table": [
                      {
                        "cells": {
                          "fill": {
                            "color": "#EBF0F8"
                          },
                          "line": {
                            "color": "white"
                          }
                        },
                        "header": {
                          "fill": {
                            "color": "#C8D4E3"
                          },
                          "line": {
                            "color": "white"
                          }
                        },
                        "type": "table"
                      }
                    ]
                  },
                  "layout": {
                    "annotationdefaults": {
                      "arrowcolor": "#2a3f5f",
                      "arrowhead": 0,
                      "arrowwidth": 1
                    },
                    "autotypenumbers": "strict",
                    "coloraxis": {
                      "colorbar": {
                        "outlinewidth": 0,
                        "ticks": ""
                      }
                    },
                    "colorscale": {
                      "diverging": [
                        [
                          0,
                          "#8e0152"
                        ],
                        [
                          0.1,
                          "#c51b7d"
                        ],
                        [
                          0.2,
                          "#de77ae"
                        ],
                        [
                          0.3,
                          "#f1b6da"
                        ],
                        [
                          0.4,
                          "#fde0ef"
                        ],
                        [
                          0.5,
                          "#f7f7f7"
                        ],
                        [
                          0.6,
                          "#e6f5d0"
                        ],
                        [
                          0.7,
                          "#b8e186"
                        ],
                        [
                          0.8,
                          "#7fbc41"
                        ],
                        [
                          0.9,
                          "#4d9221"
                        ],
                        [
                          1,
                          "#276419"
                        ]
                      ],
                      "sequential": [
                        [
                          0,
                          "#0d0887"
                        ],
                        [
                          0.1111111111111111,
                          "#46039f"
                        ],
                        [
                          0.2222222222222222,
                          "#7201a8"
                        ],
                        [
                          0.3333333333333333,
                          "#9c179e"
                        ],
                        [
                          0.4444444444444444,
                          "#bd3786"
                        ],
                        [
                          0.5555555555555556,
                          "#d8576b"
                        ],
                        [
                          0.6666666666666666,
                          "#ed7953"
                        ],
                        [
                          0.7777777777777778,
                          "#fb9f3a"
                        ],
                        [
                          0.8888888888888888,
                          "#fdca26"
                        ],
                        [
                          1,
                          "#f0f921"
                        ]
                      ],
                      "sequentialminus": [
                        [
                          0,
                          "#0d0887"
                        ],
                        [
                          0.1111111111111111,
                          "#46039f"
                        ],
                        [
                          0.2222222222222222,
                          "#7201a8"
                        ],
                        [
                          0.3333333333333333,
                          "#9c179e"
                        ],
                        [
                          0.4444444444444444,
                          "#bd3786"
                        ],
                        [
                          0.5555555555555556,
                          "#d8576b"
                        ],
                        [
                          0.6666666666666666,
                          "#ed7953"
                        ],
                        [
                          0.7777777777777778,
                          "#fb9f3a"
                        ],
                        [
                          0.8888888888888888,
                          "#fdca26"
                        ],
                        [
                          1,
                          "#f0f921"
                        ]
                      ]
                    },
                    "colorway": [
                      "#636efa",
                      "#EF553B",
                      "#00cc96",
                      "#ab63fa",
                      "#FFA15A",
                      "#19d3f3",
                      "#FF6692",
                      "#B6E880",
                      "#FF97FF",
                      "#FECB52"
                    ],
                    "font": {
                      "color": "#2a3f5f"
                    },
                    "geo": {
                      "bgcolor": "white",
                      "lakecolor": "white",
                      "landcolor": "#E5ECF6",
                      "showlakes": true,
                      "showland": true,
                      "subunitcolor": "white"
                    },
                    "hoverlabel": {
                      "align": "left"
                    },
                    "hovermode": "closest",
                    "mapbox": {
                      "style": "light"
                    },
                    "paper_bgcolor": "white",
                    "plot_bgcolor": "#E5ECF6",
                    "polar": {
                      "angularaxis": {
                        "gridcolor": "white",
                        "linecolor": "white",
                        "ticks": ""
                      },
                      "bgcolor": "#E5ECF6",
                      "radialaxis": {
                        "gridcolor": "white",
                        "linecolor": "white",
                        "ticks": ""
                      }
                    },
                    "scene": {
                      "xaxis": {
                        "backgroundcolor": "#E5ECF6",
                        "gridcolor": "white",
                        "gridwidth": 2,
                        "linecolor": "white",
                        "showbackground": true,
                        "ticks": "",
                        "zerolinecolor": "white"
                      },
                      "yaxis": {
                        "backgroundcolor": "#E5ECF6",
                        "gridcolor": "white",
                        "gridwidth": 2,
                        "linecolor": "white",
                        "showbackground": true,
                        "ticks": "",
                        "zerolinecolor": "white"
                      },
                      "zaxis": {
                        "backgroundcolor": "#E5ECF6",
                        "gridcolor": "white",
                        "gridwidth": 2,
                        "linecolor": "white",
                        "showbackground": true,
                        "ticks": "",
                        "zerolinecolor": "white"
                      }
                    },
                    "shapedefaults": {
                      "line": {
                        "color": "#2a3f5f"
                      }
                    },
                    "ternary": {
                      "aaxis": {
                        "gridcolor": "white",
                        "linecolor": "white",
                        "ticks": ""
                      },
                      "baxis": {
                        "gridcolor": "white",
                        "linecolor": "white",
                        "ticks": ""
                      },
                      "bgcolor": "#E5ECF6",
                      "caxis": {
                        "gridcolor": "white",
                        "linecolor": "white",
                        "ticks": ""
                      }
                    },
                    "title": {
                      "x": 0.05
                    },
                    "xaxis": {
                      "automargin": true,
                      "gridcolor": "white",
                      "linecolor": "white",
                      "ticks": "",
                      "title": {
                        "standoff": 15
                      },
                      "zerolinecolor": "white",
                      "zerolinewidth": 2
                    },
                    "yaxis": {
                      "automargin": true,
                      "gridcolor": "white",
                      "linecolor": "white",
                      "ticks": "",
                      "title": {
                        "standoff": 15
                      },
                      "zerolinecolor": "white",
                      "zerolinewidth": 2
                    }
                  }
                },
                "title": {
                  "text": "Lista do Fundo Monetário Internacional",
                  "x": 0.5,
                  "xanchor": "center",
                  "y": 0.97,
                  "yanchor": "top"
                },
                "xaxis": {
                  "anchor": "y",
                  "domain": [
                    0,
                    1
                  ]
                },
                "yaxis": {
                  "anchor": "x",
                  "domain": [
                    0,
                    1
                  ]
                }
              }
            }
          },
          "metadata": {},
          "output_type": "display_data"
        }
      ],
      "source": [
        "# Iniciar o report\n",
        "\n",
        "# Lista com titulo e rodape\n",
        "Titulos = ['Top 10 PIBs mundiais']\n",
        "Rodape = 'Análise feita por Emerson Martins'\n",
        "\n",
        "# Criar uma figura\n",
        "Figura = make_subplots(\n",
        "    rows=1, cols=1, subplot_titles=(Titulos) )\n",
        "\n",
        "# Update\n",
        "Figura.update_layout(\n",
        "    title_text='Lista do Fundo Monetário Internacional',\n",
        "    height=500,\n",
        "    showlegend=False,\n",
        "    title={ 'y': 0.97, 'x': 0.5, 'xanchor':'center', 'yanchor': 'top'}\n",
        ")\n",
        "\n",
        "# Grafico\n",
        "Figura.add_trace(\n",
        "    go.Bar(\n",
        "        x=Tabela_PIB['País/Território'].head(10),\n",
        "        y=Tabela_PIB['PIB (Trilhões de US$)'].head(10),\n",
        "        text=Tabela_PIB['PIB (Trilhões de US$)'].head(10),\n",
        "        textposition='auto'\n",
        "    )\n",
        ")\n",
        "\n",
        "# Ajusta no numero do grafico\n",
        "Figura.update_traces( texttemplate='%{text:.3s}', textposition='outside')\n",
        "\n",
        "# Variavel da posição da bandeira\n",
        "Posicao_Direita = 0\n",
        "\n",
        "# Loop para incluir as imagens\n",
        "for Loop in Links[0:10]:\n",
        "\n",
        "  # Requisição\n",
        "  Link_Imagem = requests.get( Loop )\n",
        "\n",
        "  # Carregando as imagens / convertendo\n",
        "  Bandeira = Image.open(BytesIO(Link_Imagem.content))\n",
        "\n",
        "  # Incluindo um objeto\n",
        "  Figura.add_layout_image(\n",
        "      dict(\n",
        "          source=Bandeira,\n",
        "          x=0.062 + Posicao_Direita,\n",
        "          y=-0.15,\n",
        "          sizex=0.05, sizey=0.05,\n",
        "          xanchor='right', yanchor='bottom'\n",
        "      )\n",
        "    )\n",
        "\n",
        "  # Ajusta a posição da bandeira\n",
        "  Posicao_Direita += 0.10\n",
        "\n",
        "# Mostrando\n",
        "Figura.show()"
      ]
    },
    {
      "cell_type": "code",
      "execution_count": 32,
      "metadata": {
        "id": "NCzjPth6YY5u"
      },
      "outputs": [],
      "source": [
        "# Win\n",
        "import win32com.client as win32\n",
        "\n",
        "# Instanciar \n",
        "Outlook = win32.Dispatch('outlook.application')\n",
        "\n",
        "# Criar um e-mail\n",
        "Email = Outlook.CreateItem(0)\n",
        "\n",
        "# Destino\n",
        "Email.To = 'exemplo@email.com; exemplo@email.com; exemplo@email.com'\n",
        "\n",
        "#Copia\n",
        "Email.CC = 'exemplo@email.com'\n",
        "\n",
        "# Copia Oculta\n",
        "Email.BCC = 'exemplo@email.com'\n",
        "\n",
        "# Assunto\n",
        "Email.Subject = 'E-mail com Python!'\n",
        "\n",
        "# Corpo do E-mail\n",
        "Email.Body = 'Mensagem do e-mail'\n",
        "\n",
        "#Local da imagem\n",
        "Local_Imagem = r'C:\\Users\\nomedouser\\Documentos\\estudos\\python_para_analise_de_dados\\grafico_pib.png'\n",
        "Email.Attachments.Add( Local_Imagem )\n",
        "\n",
        "Codigo_HTML = ''' \n",
        "<h3> Relatório PIBs mundiais </h3>\n",
        "<p> Segue análise dos valores em 2024 </p>\n",
        "<img src=\"grafico_pib.png\"  width=50% alt=\"Indicador dos PIBS\" />\n",
        "<br>\n",
        "<p> Qualquer dúvida estou a disposição <i> Emerson Martins </i> </p>\n",
        "'''\n",
        "\n",
        "# Incluindo o codigo HTML\n",
        "Email.HTMLBody = Codigo_HTML\n",
        "\n",
        "# Enviar um e-mail\n",
        "Email.Send()"
      ]
    },
    {
      "cell_type": "code",
      "execution_count": null,
      "metadata": {},
      "outputs": [],
      "source": []
    }
  ],
  "metadata": {
    "colab": {
      "provenance": []
    },
    "kernelspec": {
      "display_name": "Python 3",
      "name": "python3"
    },
    "language_info": {
      "codemirror_mode": {
        "name": "ipython",
        "version": 3
      },
      "file_extension": ".py",
      "mimetype": "text/x-python",
      "name": "python",
      "nbconvert_exporter": "python",
      "pygments_lexer": "ipython3",
      "version": "3.12.3"
    }
  },
  "nbformat": 4,
  "nbformat_minor": 0
}
