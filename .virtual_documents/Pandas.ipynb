


import pandas as pd
import numpy as np


df = pd.read_csv('datasets/StudentsPerformance.csv')


df


type(df)


# 5 primeiras linhas
df.head()


# 5 últimas linhas
df.tail()


# quantidade de linhas e colunas
df.shape


# arrey com as colunas
df.columns


# verifica linhas duplicadas
df.duplicated()


# verifica linhas duplicadas
df.duplicated().sum()


df.info()


# verifica existência de NaN
df.isna().sum()


# sumário estatístico
df.describe()


# sumário estatístico - inclusive para as variáveis categóricas
df.describe(include = 'all')


# quantidade de valores únicos em cada coluna
df.nunique()


# valores únicos
df['parental level of education'].unique()


# frequência entre os gêneros
df.gender.value_counts()


provas = ['math score', 'reading score', 'writing score']


df


df.sort_values(['math score'])





df.sort_values(['math score']).reset_index(drop = True)


# ordena o dataset
df = df.sort_values(by = provas, ascending = False).reset_index(drop = True)


df


# coluna com a média das provas 
df['mean'] = df[provas].mean(axis = 1)


df.head()


# consulta
df.query('(gender == "male") & (`test preparation course` == "none") & (`math score` >= 70)')


df[(df.gender == 'male') & (df['test preparation course'] == 'none') & (df['math score'] >= 70)]


df.loc[(df.gender == 'male') & (df['test preparation course'] == 'none') & (df['math score'] >= 70)]


# agrupamento - agrupa os dados por gênero e obtém estatísticas descritivas


df.groupby(by='gender')[provas].agg(['mean', 'median']).T
